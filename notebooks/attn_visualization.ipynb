{
 "cells": [
  {
   "cell_type": "code",
   "execution_count": 1,
   "metadata": {},
   "outputs": [],
   "source": [
    "%load_ext autoreload\n",
    "%autoreload 2\n",
    "import sys\n",
    "sys.path.append(\"../\")"
   ]
  },
  {
   "cell_type": "code",
   "execution_count": 2,
   "metadata": {},
   "outputs": [],
   "source": [
    "from src.sequential_dataset import JointGraphDataModule, SequentialLegoDataJointGraph\n",
    "\n",
    "ds = SequentialLegoDataJointGraph(\"../data/\", 'gen', 300)\n"
   ]
  },
  {
   "cell_type": "code",
   "execution_count": 3,
   "metadata": {},
   "outputs": [],
   "source": [
    "import matplotlib.pyplot as plt\n",
    "\n",
    "def plot_voxels(voxels, ax=None, **kwargs):\n",
    "    if ax is None:\n",
    "        ax = plt.figure().add_subplot(projection='3d')\n",
    "    ax.voxels(voxels, edgecolor='k', **kwargs)\n",
    "    print(voxels.shape)\n",
    "    plt.show()"
   ]
  },
  {
   "cell_type": "code",
   "execution_count": 4,
   "metadata": {},
   "outputs": [],
   "source": [
    "from src.models.joint_graph_model import LegoNet\n",
    "\n",
    "model = LegoNet.load_from_checkpoint(\"../lightning_logs/version_21/checkpoints/epoch=0-step=18.ckpt\")"
   ]
  },
  {
   "cell_type": "code",
   "execution_count": 5,
   "metadata": {},
   "outputs": [],
   "source": [
    "import torch\n",
    "def get_attn_brick_to_point(lego, net, brick_idx):\n",
    "    _, attns = net.process_graph(lego, return_attn=True)\n",
    "    attn = attns[0] #TODO: take average\n",
    "\n",
    "    edge_index, weight = attn\n",
    "    edge_mask = edge_index[0] == brick_idx\n",
    "\n",
    "    point_weights = weight[edge_mask].reshape(-1)\n",
    "    points = edge_index[1][edge_mask].reshape(-1)\n",
    "\n",
    "    point_attn = torch.zeros(len(lego['point'].pos))\n",
    "    point_attn[points] = point_weights\n",
    "\n",
    "    return point_attn.detach()"
   ]
  },
  {
   "cell_type": "code",
   "execution_count": 7,
   "metadata": {},
   "outputs": [
    {
     "name": "stdout",
     "output_type": "stream",
     "text": [
      "Using matplotlib backend: MacOSX\n",
      "torch.Size([14, 14, 4])\n",
      "torch.Size([14, 14, 4])\n"
     ]
    }
   ],
   "source": [
    "%matplotlib\n",
    "import torch\n",
    "\n",
    "lego = ds[120]\n",
    "points = lego['point'].pos\n",
    "focus_brick = 10\n",
    "\n",
    "fig = plt.figure()\n",
    "ax = fig.add_subplot(121, projection='3d')\n",
    "\n",
    "attn = get_attn_brick_to_point(lego, model, focus_brick)\n",
    "ax.scatter(points[:,0], points[:,1], points[:,2], 'bo-', c=attn)\n",
    "\n",
    "from src.lego_model import LegoModel\n",
    "\n",
    "focus_idxs = torch.Tensor([focus_brick]).to(int)\n",
    "voxels, voxels_collisions = LegoModel.to_voxels(lego['lego'], 1, 1, 1.2, focus=focus_idxs)\n",
    "\n",
    "ax2 = fig.add_subplot(122, projection='3d')\n",
    "plot_voxels(voxels, ax2, alpha=0.2)\n",
    "plot_voxels(voxels_collisions, ax2, facecolors='r')\n",
    "plt.show()"
   ]
  },
  {
   "cell_type": "code",
   "execution_count": null,
   "metadata": {},
   "outputs": [],
   "source": []
  }
 ],
 "metadata": {
  "kernelspec": {
   "display_name": "Python 3 (ipykernel)",
   "language": "python",
   "name": "python3"
  },
  "language_info": {
   "codemirror_mode": {
    "name": "ipython",
    "version": 3
   },
   "file_extension": ".py",
   "mimetype": "text/x-python",
   "name": "python",
   "nbconvert_exporter": "python",
   "pygments_lexer": "ipython3",
   "version": "3.11.4"
  }
 },
 "nbformat": 4,
 "nbformat_minor": 2
}
