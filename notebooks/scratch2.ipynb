{
 "cells": [
  {
   "cell_type": "code",
   "execution_count": 33,
   "metadata": {},
   "outputs": [
    {
     "data": {
      "text/plain": [
       "tensor([[9, 0, 3, 4, 5, 2, 8, 8, 3, 2],\n",
       "        [7, 9, 6, 3, 3, 1, 1, 7, 3, 3]])"
      ]
     },
     "execution_count": 33,
     "metadata": {},
     "output_type": "execute_result"
    }
   ],
   "source": [
    "import torch\n",
    "\n",
    "def complete_bipartite_edges(m,n,prob):\n",
    "    row = torch.arange(m).reshape(-1,1).tile(n).reshape(-1)\n",
    "    col = torch.arange(n).repeat(m)\n",
    "    n = int(prob * len(row))\n",
    "    indices = list(zip(row, col))\n",
    "    random_pairs = random.sample(indices, n)\n",
    "    random_pairs = torch.tensor(np.array(random_pairs)).T\n",
    "    return random_pairs\n",
    "\n",
    "complete_bipartite_edges(10,10, 0.1)"
   ]
  },
  {
   "cell_type": "code",
   "execution_count": 26,
   "metadata": {},
   "outputs": [],
   "source": [
    "import numpy as np\n",
    "m = 3\n",
    "n = 4\n",
    "row = torch.arange(m).reshape(-1,1).tile(n).reshape(-1)\n",
    "col = torch.arange(n).repeat(m)"
   ]
  },
  {
   "cell_type": "code",
   "execution_count": 29,
   "metadata": {},
   "outputs": [
    {
     "name": "stdout",
     "output_type": "stream",
     "text": [
      "Sampled x coordinates: (tensor(0), tensor(1), tensor(1), tensor(2), tensor(0))\n",
      "Sampled y coordinates: (tensor(0), tensor(2), tensor(1), tensor(3), tensor(1))\n"
     ]
    }
   ],
   "source": [
    "# Combine x and y coordinates into pairs of indices\n",
    "\n",
    "\n",
    "# Number of random pairs to sample\n",
    "n_samples = 5\n",
    "\n",
    "# Randomly sample pairs of indices\n",
    "random_pairs = random.sample(indices, n_samples)\n",
    "\n",
    "# Separate the sampled pairs back into x and y coordinates\n",
    "sampled_x_coordinates, sampled_y_coordinates = zip(*random_pairs)\n",
    "\n",
    "print(\"Sampled x coordinates:\", sampled_x_coordinates)\n",
    "print(\"Sampled y coordinates:\", sampled_y_coordinates)\n"
   ]
  },
  {
   "cell_type": "code",
   "execution_count": 32,
   "metadata": {},
   "outputs": [
    {
     "data": {
      "text/plain": [
       "tensor([[0, 1, 1, 2, 0],\n",
       "        [0, 2, 1, 3, 1]])"
      ]
     },
     "execution_count": 32,
     "metadata": {},
     "output_type": "execute_result"
    }
   ],
   "source": [
    "\n",
    "# Convert the list of pairs to a NumPy array\n",
    "pairs_array = np.array(random_pairs)\n",
    "\n",
    "# Convert the NumPy array to a PyTorch tensor\n",
    "tensor = torch.tensor(pairs_array)\n",
    "tensor.T"
   ]
  },
  {
   "cell_type": "code",
   "execution_count": 25,
   "metadata": {},
   "outputs": [
    {
     "name": "stdout",
     "output_type": "stream",
     "text": [
      "[[3, 4], [9, 10], [5, 6]]\n"
     ]
    }
   ],
   "source": [
    "import random\n",
    "\n",
    "# Create a list of points (each point is represented as a list)\n",
    "points = [[1, 2], [3, 4], [5, 6], [7, 8], [9, 10]]\n",
    "\n",
    "# Number of random points to sample\n",
    "x = 3\n",
    "\n",
    "# Randomly sample x points from the list\n",
    "randomly_sampled_points = random.sample(points, x)\n",
    "\n",
    "print(randomly_sampled_points)\n"
   ]
  },
  {
   "cell_type": "code",
   "execution_count": 24,
   "metadata": {},
   "outputs": [
    {
     "ename": "TypeError",
     "evalue": "Random.choice() takes 2 positional arguments but 3 were given",
     "output_type": "error",
     "traceback": [
      "\u001b[0;31m---------------------------------------------------------------------------\u001b[0m",
      "\u001b[0;31mTypeError\u001b[0m                                 Traceback (most recent call last)",
      "\u001b[1;32m/Users/kevinwu/github/bricksimulate/notebooks/scratch2.ipynb Cell 4\u001b[0m line \u001b[0;36m2\n\u001b[1;32m      <a href='vscode-notebook-cell:/Users/kevinwu/github/bricksimulate/notebooks/scratch2.ipynb#W3sZmlsZQ%3D%3D?line=0'>1</a>\u001b[0m \u001b[39mimport\u001b[39;00m \u001b[39mrandom\u001b[39;00m\n\u001b[0;32m----> <a href='vscode-notebook-cell:/Users/kevinwu/github/bricksimulate/notebooks/scratch2.ipynb#W3sZmlsZQ%3D%3D?line=1'>2</a>\u001b[0m random\u001b[39m.\u001b[39;49mchoice(\u001b[39mlist\u001b[39;49m(torch\u001b[39m.\u001b[39;49mstack([row, col])\u001b[39m.\u001b[39;49mT), \u001b[39m5\u001b[39;49m)\n",
      "\u001b[0;31mTypeError\u001b[0m: Random.choice() takes 2 positional arguments but 3 were given"
     ]
    }
   ],
   "source": [
    "import random\n",
    "random.choice(list(torch.stack([row, col]).T), 5)"
   ]
  },
  {
   "cell_type": "code",
   "execution_count": 23,
   "metadata": {},
   "outputs": [
    {
     "data": {
      "text/plain": [
       "[tensor([0, 0]),\n",
       " tensor([0, 1]),\n",
       " tensor([0, 2]),\n",
       " tensor([0, 3]),\n",
       " tensor([1, 0]),\n",
       " tensor([1, 1]),\n",
       " tensor([1, 2]),\n",
       " tensor([1, 3]),\n",
       " tensor([2, 0]),\n",
       " tensor([2, 1]),\n",
       " tensor([2, 2]),\n",
       " tensor([2, 3])]"
      ]
     },
     "execution_count": 23,
     "metadata": {},
     "output_type": "execute_result"
    }
   ],
   "source": [
    "list(torch.stack([row, col]).T)"
   ]
  },
  {
   "cell_type": "code",
   "execution_count": 8,
   "metadata": {},
   "outputs": [
    {
     "data": {
      "text/plain": [
       "tensor(0)"
      ]
     },
     "execution_count": 8,
     "metadata": {},
     "output_type": "execute_result"
    }
   ],
   "source": [
    "x_coordinates[1]"
   ]
  },
  {
   "cell_type": "code",
   "execution_count": 5,
   "metadata": {},
   "outputs": [
    {
     "name": "stdout",
     "output_type": "stream",
     "text": [
      "Sampled x coordinates: (tensor(0), tensor(2), tensor(1), tensor(1), tensor(0))\n",
      "Sampled y coordinates: (tensor(0), tensor(3), tensor(1), tensor(2), tensor(2))\n"
     ]
    }
   ],
   "source": [
    "import torch\n",
    "import random\n",
    "\n",
    "# Create tensors for x and y coordinates\n",
    "x_coordinates = torch.tensor([0, 0, 0, 0, 1, 1, 1, 1, 2, 2, 2, 2])\n",
    "y_coordinates = torch.tensor([0, 1, 2, 3, 0, 1, 2, 3, 0, 1, 2, 3])\n",
    "\n",
    "# Combine x and y coordinates into pairs of indices\n",
    "indices = list(zip(x_coordinates, y_coordinates))\n",
    "\n",
    "# Number of random pairs to sample\n",
    "n_samples = 5\n",
    "\n",
    "# Randomly sample pairs of indices\n",
    "random_pairs = random.sample(indices, n_samples)\n",
    "\n",
    "# Separate the sampled pairs back into x and y coordinates\n",
    "sampled_x_coordinates, sampled_y_coordinates = zip(*random_pairs)\n",
    "\n",
    "print(\"Sampled x coordinates:\", sampled_x_coordinates)\n",
    "print(\"Sampled y coordinates:\", sampled_y_coordinates)\n"
   ]
  },
  {
   "cell_type": "code",
   "execution_count": null,
   "metadata": {},
   "outputs": [],
   "source": []
  }
 ],
 "metadata": {
  "kernelspec": {
   "display_name": "Python 3",
   "language": "python",
   "name": "python3"
  },
  "language_info": {
   "codemirror_mode": {
    "name": "ipython",
    "version": 3
   },
   "file_extension": ".py",
   "mimetype": "text/x-python",
   "name": "python",
   "nbconvert_exporter": "python",
   "pygments_lexer": "ipython3",
   "version": "3.10.12"
  }
 },
 "nbformat": 4,
 "nbformat_minor": 2
}
